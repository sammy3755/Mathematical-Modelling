{
 "cells": [
  {
   "cell_type": "code",
   "execution_count": 1,
   "metadata": {},
   "outputs": [],
   "source": [
    "import sympy as sym"
   ]
  },
  {
   "cell_type": "code",
   "execution_count": 2,
   "metadata": {},
   "outputs": [],
   "source": [
    "f=sym.Function(\"f\")\n",
    "x=sym.Symbol(\"x\")"
   ]
  },
  {
   "cell_type": "code",
   "execution_count": 3,
   "metadata": {},
   "outputs": [],
   "source": [
    "eqn=sym.Derivative(f(x),x,x)-3*sym.Derivative(f(x),x)+2*f(x)"
   ]
  },
  {
   "cell_type": "code",
   "execution_count": 4,
   "metadata": {},
   "outputs": [
    {
     "data": {
      "text/latex": [
       "$\\displaystyle 2 f{\\left(x \\right)} - 3 \\frac{d}{d x} f{\\left(x \\right)} + \\frac{d^{2}}{d x^{2}} f{\\left(x \\right)}$"
      ],
      "text/plain": [
       "2*f(x) - 3*Derivative(f(x), x) + Derivative(f(x), (x, 2))"
      ]
     },
     "execution_count": 4,
     "metadata": {},
     "output_type": "execute_result"
    }
   ],
   "source": [
    "eqn"
   ]
  },
  {
   "cell_type": "code",
   "execution_count": 5,
   "metadata": {},
   "outputs": [],
   "source": [
    "soln=sym.dsolve(eqn,f(x))"
   ]
  },
  {
   "cell_type": "code",
   "execution_count": 6,
   "metadata": {},
   "outputs": [
    {
     "data": {
      "text/latex": [
       "$\\displaystyle f{\\left(x \\right)} = \\left(C_{1} + C_{2} e^{x}\\right) e^{x}$"
      ],
      "text/plain": [
       "Eq(f(x), (C1 + C2*exp(x))*exp(x))"
      ]
     },
     "execution_count": 6,
     "metadata": {},
     "output_type": "execute_result"
    }
   ],
   "source": [
    "soln"
   ]
  },
  {
   "cell_type": "markdown",
   "metadata": {},
   "source": [
    "## method two"
   ]
  },
  {
   "cell_type": "code",
   "execution_count": 7,
   "metadata": {},
   "outputs": [],
   "source": [
    "eqn1=f(x).diff(x,2)-3*f(x).diff(x,1)+2*f(x)"
   ]
  },
  {
   "cell_type": "code",
   "execution_count": 8,
   "metadata": {},
   "outputs": [
    {
     "data": {
      "text/latex": [
       "$\\displaystyle 2 f{\\left(x \\right)} - 3 \\frac{d}{d x} f{\\left(x \\right)} + \\frac{d^{2}}{d x^{2}} f{\\left(x \\right)}$"
      ],
      "text/plain": [
       "2*f(x) - 3*Derivative(f(x), x) + Derivative(f(x), (x, 2))"
      ]
     },
     "execution_count": 8,
     "metadata": {},
     "output_type": "execute_result"
    }
   ],
   "source": [
    "eqn1"
   ]
  },
  {
   "cell_type": "code",
   "execution_count": 9,
   "metadata": {},
   "outputs": [],
   "source": [
    "soln1=sym.dsolve(eqn1-4*sym.exp(2*x),f(x),hint='nth_linear_constant_coeff_undetermined_coefficients')"
   ]
  },
  {
   "cell_type": "code",
   "execution_count": 10,
   "metadata": {},
   "outputs": [
    {
     "data": {
      "text/latex": [
       "$\\displaystyle f{\\left(x \\right)} = \\left(C_{1} + \\left(C_{2} + 4 x\\right) e^{x}\\right) e^{x}$"
      ],
      "text/plain": [
       "Eq(f(x), (C1 + (C2 + 4*x)*exp(x))*exp(x))"
      ]
     },
     "execution_count": 10,
     "metadata": {},
     "output_type": "execute_result"
    }
   ],
   "source": [
    "soln1"
   ]
  },
  {
   "cell_type": "markdown",
   "metadata": {},
   "source": [
    "## Solution two "
   ]
  },
  {
   "cell_type": "code",
   "execution_count": 11,
   "metadata": {},
   "outputs": [],
   "source": [
    "eqn2=f(x).diff(x,2)-f(x)-sym.sin(x)"
   ]
  },
  {
   "cell_type": "code",
   "execution_count": 12,
   "metadata": {},
   "outputs": [],
   "source": [
    "soln2=sym.dsolve(eqn2,f(x),hint='nth_linear_constant_coeff_undetermined_coefficients')"
   ]
  },
  {
   "cell_type": "code",
   "execution_count": 13,
   "metadata": {},
   "outputs": [
    {
     "data": {
      "text/latex": [
       "$\\displaystyle f{\\left(x \\right)} = C_{1} e^{- x} + C_{2} e^{x} - \\frac{\\sin{\\left(x \\right)}}{2}$"
      ],
      "text/plain": [
       "Eq(f(x), C1*exp(-x) + C2*exp(x) - sin(x)/2)"
      ]
     },
     "execution_count": 13,
     "metadata": {},
     "output_type": "execute_result"
    }
   ],
   "source": [
    "soln2"
   ]
  },
  {
   "cell_type": "markdown",
   "metadata": {},
   "source": [
    "## using variation of parameters"
   ]
  },
  {
   "cell_type": "code",
   "execution_count": 14,
   "metadata": {},
   "outputs": [],
   "source": [
    "soln3=sym.dsolve(eqn2,f(x),hint='nth_linear_constant_coeff_variation_of_parameters')"
   ]
  },
  {
   "cell_type": "code",
   "execution_count": 15,
   "metadata": {},
   "outputs": [
    {
     "data": {
      "text/latex": [
       "$\\displaystyle f{\\left(x \\right)} = C_{1} e^{- x} + C_{2} e^{x} - \\frac{\\sin{\\left(x \\right)}}{2}$"
      ],
      "text/plain": [
       "Eq(f(x), C1*exp(-x) + C2*exp(x) - sin(x)/2)"
      ]
     },
     "execution_count": 15,
     "metadata": {},
     "output_type": "execute_result"
    }
   ],
   "source": [
    "soln3"
   ]
  },
  {
   "cell_type": "code",
   "execution_count": 16,
   "metadata": {},
   "outputs": [
    {
     "data": {
      "text/latex": [
       "$\\displaystyle f{\\left(0 \\right)} = C_{1} + C_{2}$"
      ],
      "text/plain": [
       "Eq(f(0), C1 + C2)"
      ]
     },
     "execution_count": 16,
     "metadata": {},
     "output_type": "execute_result"
    }
   ],
   "source": [
    "soln3.subs(x,0)"
   ]
  },
  {
   "cell_type": "code",
   "execution_count": 46,
   "metadata": {},
   "outputs": [],
   "source": [
    "#soln3.Diff(x,2)"
   ]
  },
  {
   "cell_type": "code",
   "execution_count": 21,
   "metadata": {},
   "outputs": [
    {
     "data": {
      "text/latex": [
       "$\\displaystyle f{\\left(x \\right)} = C_{1} e^{- x} + C_{2} e^{x} - \\frac{\\sin{\\left(x \\right)}}{2}$"
      ],
      "text/plain": [
       "Eq(f(x), C1*exp(-x) + C2*exp(x) - sin(x)/2)"
      ]
     },
     "execution_count": 21,
     "metadata": {},
     "output_type": "execute_result"
    }
   ],
   "source": [
    "soln2"
   ]
  },
  {
   "cell_type": "code",
   "execution_count": 22,
   "metadata": {},
   "outputs": [
    {
     "data": {
      "text/latex": [
       "$\\displaystyle C_{1}$"
      ],
      "text/plain": [
       "C1"
      ]
     },
     "execution_count": 22,
     "metadata": {},
     "output_type": "execute_result"
    }
   ],
   "source": [
    "C1=sym.Symbol(\"C1\")\n",
    "C2=sym.Symbol(\"C2\")\n",
    "C1"
   ]
  },
  {
   "cell_type": "code",
   "execution_count": 23,
   "metadata": {},
   "outputs": [
    {
     "data": {
      "text/latex": [
       "$\\displaystyle 16 x$"
      ],
      "text/plain": [
       "16*x"
      ]
     },
     "execution_count": 23,
     "metadata": {},
     "output_type": "execute_result"
    }
   ],
   "source": [
    "(2*x*C1).subs(C1,8)"
   ]
  },
  {
   "cell_type": "markdown",
   "metadata": {},
   "source": [
    "## Solutions to modeled differential Equations\n",
    "### Solution to the example"
   ]
  },
  {
   "cell_type": "code",
   "execution_count": 32,
   "metadata": {},
   "outputs": [],
   "source": [
    "import sympy as sym\n",
    "t=sym.Symbol(\"t\")\n",
    "C1=sym.Symbol(\"C1\")\n",
    "C2=sym.Symbol(\"C2\")\n",
    "f=sym.Function(\"f\")(t)"
   ]
  },
  {
   "cell_type": "code",
   "execution_count": 33,
   "metadata": {},
   "outputs": [
    {
     "data": {
      "text/latex": [
       "$\\displaystyle 5 f{\\left(t \\right)} - \\cos{\\left(3 t \\right)} + 6 \\frac{d}{d t} f{\\left(t \\right)} + \\frac{d^{2}}{d t^{2}} f{\\left(t \\right)}$"
      ],
      "text/plain": [
       "5*f(t) - cos(3*t) + 6*Derivative(f(t), t) + Derivative(f(t), (t, 2))"
      ]
     },
     "execution_count": 33,
     "metadata": {},
     "output_type": "execute_result"
    }
   ],
   "source": [
    "f.diff(t,2)+6*f.diff(t)+5*f-sym.cos(3*t)"
   ]
  },
  {
   "cell_type": "code",
   "execution_count": 34,
   "metadata": {},
   "outputs": [
    {
     "data": {
      "text/latex": [
       "$\\displaystyle f{\\left(t \\right)} = C_{1} e^{- 5 t} + C_{2} e^{- t} + \\frac{9 \\sin{\\left(3 t \\right)}}{170} - \\frac{\\cos{\\left(3 t \\right)}}{85}$"
      ],
      "text/plain": [
       "Eq(f(t), C1*exp(-5*t) + C2*exp(-t) + 9*sin(3*t)/170 - cos(3*t)/85)"
      ]
     },
     "execution_count": 34,
     "metadata": {},
     "output_type": "execute_result"
    }
   ],
   "source": [
    "eqn=f.diff(t,2)+6*f.diff(t)+5*f-sym.cos(3*t)\n",
    "solution=sym.dsolve(eqn,f)\n",
    "solution\n"
   ]
  },
  {
   "cell_type": "code",
   "execution_count": 35,
   "metadata": {},
   "outputs": [
    {
     "data": {
      "text/latex": [
       "$\\displaystyle f{\\left(0 \\right)} = C_{1} + C_{2} - \\frac{1}{85}$"
      ],
      "text/plain": [
       "Eq(f(0), C1 + C2 - 1/85)"
      ]
     },
     "execution_count": 35,
     "metadata": {},
     "output_type": "execute_result"
    }
   ],
   "source": [
    "solution.subs(t,0)"
   ]
  },
  {
   "cell_type": "code",
   "execution_count": 36,
   "metadata": {},
   "outputs": [],
   "source": [
    "q_deriv=-5*C1*sym.exp(-5*t)-C1*sym.exp(-t)+27*sym.cos(3*t)/170+3*sym.sin(3*t)/85"
   ]
  },
  {
   "cell_type": "code",
   "execution_count": 37,
   "metadata": {},
   "outputs": [
    {
     "data": {
      "text/latex": [
       "$\\displaystyle - C_{1} e^{- t} - 5 C_{1} e^{- 5 t} + \\frac{3 \\sin{\\left(3 t \\right)}}{85} + \\frac{27 \\cos{\\left(3 t \\right)}}{170}$"
      ],
      "text/plain": [
       "-C1*exp(-t) - 5*C1*exp(-5*t) + 3*sin(3*t)/85 + 27*cos(3*t)/170"
      ]
     },
     "execution_count": 37,
     "metadata": {},
     "output_type": "execute_result"
    }
   ],
   "source": [
    "q_deriv"
   ]
  },
  {
   "cell_type": "code",
   "execution_count": 38,
   "metadata": {},
   "outputs": [
    {
     "data": {
      "text/latex": [
       "$\\displaystyle \\frac{3 \\sin{\\left(3 t \\right)}}{85} + \\frac{27 \\cos{\\left(3 t \\right)}}{170} + 0.0264705882352941 e^{- t} + 0.0735294117647059 e^{- 5 t}$"
      ],
      "text/plain": [
       "3*sin(3*t)/85 + 27*cos(3*t)/170 + 0.0264705882352941*exp(-t) + 0.0735294117647059*exp(-5*t)"
      ]
     },
     "execution_count": 38,
     "metadata": {},
     "output_type": "execute_result"
    }
   ],
   "source": [
    "sym.solve([q_deriv.subs(t,0),solution.subs(t,0)])\n",
    "general_soln=9/340*sym.exp(-t)-5*(-1/68)*sym.exp(-5*t)+27*sym.cos(3*t)/170+3*sym.sin(3*t)/85\n",
    "general_soln"
   ]
  },
  {
   "cell_type": "code",
   "execution_count": null,
   "metadata": {},
   "outputs": [],
   "source": []
  }
 ],
 "metadata": {
  "kernelspec": {
   "display_name": "Python 3 (ipykernel)",
   "language": "python",
   "name": "python3"
  },
  "language_info": {
   "codemirror_mode": {
    "name": "ipython",
    "version": 3
   },
   "file_extension": ".py",
   "mimetype": "text/x-python",
   "name": "python",
   "nbconvert_exporter": "python",
   "pygments_lexer": "ipython3",
   "version": "3.10.9"
  }
 },
 "nbformat": 4,
 "nbformat_minor": 2
}
