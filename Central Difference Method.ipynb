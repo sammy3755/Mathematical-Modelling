{
 "cells": [
  {
   "cell_type": "code",
   "execution_count": 6,
   "metadata": {},
   "outputs": [
    {
     "name": "stdout",
     "output_type": "stream",
     "text": [
      "0.8775825618903728\n"
     ]
    }
   ],
   "source": [
    "from math import sin,cos\n",
    "exact=cos(0.5)\n",
    "print(exact)"
   ]
  },
  {
   "cell_type": "markdown",
   "metadata": {},
   "source": [
    "## Using central difference"
   ]
  },
  {
   "cell_type": "code",
   "execution_count": 13,
   "metadata": {},
   "outputs": [
    {
     "name": "stdout",
     "output_type": "stream",
     "text": [
      "h:0.1\n",
      "derivative:0.8761206554319242\n",
      "error: 0.0014619064584485697\n",
      "==============================\n",
      "h:0.01\n",
      "derivative:0.8775679355874727\n",
      "error: 1.4626302900055954e-05\n",
      "==============================\n",
      "h:0.001\n",
      "derivative:0.8775824156266321\n",
      "error: 1.4626374067461256e-07\n",
      "==============================\n",
      "h:0.0001\n",
      "derivative:0.8775825604276366\n",
      "error: 1.4627361544228279e-09\n",
      "==============================\n",
      "h:1e-05\n",
      "derivative:0.8775825618728693\n",
      "error: 1.750344313933283e-11\n",
      "==============================\n",
      "h:1e-06\n",
      "derivative:0.8775825618978494\n",
      "error: 7.476685937035654e-12\n",
      "==============================\n",
      "h:1e-07\n",
      "derivative:0.8775825616202937\n",
      "error: 2.700790702192535e-10\n",
      "==============================\n",
      "h:1e-08\n",
      "derivative:0.8775825621754052\n",
      "error: 2.850324420933248e-10\n",
      "==============================\n"
     ]
    }
   ],
   "source": [
    "n=8\n",
    "for i in range(1,n+1):\n",
    "    h=10**(-i)\n",
    "    deri=(sin(0.5+h)-sin(0.5-h))/(2*h)\n",
    "    error=abs(exact-deri)\n",
    "    print(f'h:{h}\\nderivative:{deri}')\n",
    "    print(f\"error: {error}\")\n",
    "    print('='*30)"
   ]
  },
  {
   "cell_type": "markdown",
   "metadata": {},
   "source": [
    "## method 5 points undetermined coefficients"
   ]
  },
  {
   "cell_type": "code",
   "execution_count": 14,
   "metadata": {},
   "outputs": [
    {
     "name": "stdout",
     "output_type": "stream",
     "text": [
      "h:0.1\n",
      "derivative:0.8775796400956059\n",
      "error: 2.9217947669080147e-06\n",
      "==============================\n",
      "h:0.01\n",
      "derivative:0.877582561597846\n",
      "error: 2.92526780576452e-10\n",
      "==============================\n",
      "h:0.001\n",
      "derivative:0.8775825618903785\n",
      "error: 5.773159728050814e-15\n",
      "==============================\n",
      "h:0.0001\n",
      "derivative:0.8775825618904479\n",
      "error: 7.51620987671231e-14\n",
      "==============================\n",
      "h:1e-05\n",
      "derivative:0.8775825618848967\n",
      "error: 5.476064046661122e-12\n",
      "==============================\n",
      "h:1e-06\n",
      "derivative:0.8775825618978494\n",
      "error: 7.476685937035654e-12\n",
      "==============================\n",
      "h:1e-07\n",
      "derivative:0.8775825617128123\n",
      "error: 1.7756041081895546e-10\n",
      "==============================\n",
      "h:1e-08\n",
      "derivative:0.8775825631005909\n",
      "error: 1.2102181479178853e-09\n",
      "==============================\n"
     ]
    }
   ],
   "source": [
    "n=8\n",
    "for i in range(1,n+1):\n",
    "    h=10**(-i)\n",
    "    deri=(sin(0.5-2*h)-8*sin(0.5-h)+8*sin(0.5+h)-sin(0.5+2*h))/(12*h)\n",
    "    error=abs(exact-deri)\n",
    "    print(f'h:{h}\\nderivative:{deri}')\n",
    "    print(f\"error: {error}\")\n",
    "    print('='*30)"
   ]
  },
  {
   "cell_type": "code",
   "execution_count": null,
   "metadata": {},
   "outputs": [],
   "source": []
  }
 ],
 "metadata": {
  "kernelspec": {
   "display_name": "Python 3 (ipykernel)",
   "language": "python",
   "name": "python3"
  },
  "language_info": {
   "codemirror_mode": {
    "name": "ipython",
    "version": 3
   },
   "file_extension": ".py",
   "mimetype": "text/x-python",
   "name": "python",
   "nbconvert_exporter": "python",
   "pygments_lexer": "ipython3",
   "version": "3.10.9"
  }
 },
 "nbformat": 4,
 "nbformat_minor": 2
}
